{
 "cells": [
  {
   "cell_type": "markdown",
   "metadata": {},
   "source": [
    "# 动手学深度学习 6.2节 图像卷积 示例代码"
   ]
  },
  {
   "cell_type": "markdown",
   "metadata": {},
   "source": [
    "互相关运算"
   ]
  },
  {
   "cell_type": "code",
   "execution_count": 1,
   "metadata": {},
   "outputs": [
    {
     "data": {
      "text/plain": [
       "tensor([[19., 25.],\n",
       "        [37., 43.]])"
      ]
     },
     "execution_count": 1,
     "metadata": {},
     "output_type": "execute_result"
    }
   ],
   "source": [
    "import torch\n",
    "from torch import nn\n",
    "from d2l import torch as d2l\n",
    "\n",
    "\n",
    "def corr2d(X:torch.Tensor, K:torch.Tensor):\n",
    "\t\"\"\"计算二维互相关运算。\n",
    "\n",
    "\tArgs:\n",
    "\t\tX (torch.Tensor): 输入张量\n",
    "\t\tK (torch.Tensor): 卷积核张量\n",
    "\t\n",
    "\tReturn:\n",
    "\t\tY (torch.Tensor): 输出张量\n",
    "\t\"\"\"\n",
    "\n",
    "\t# 获取卷积核的形状\n",
    "\th, w = K.shape\n",
    "\tY = torch.zeros((X.shape[0] - h + 1, X.shape[1] - w + 1))\n",
    "\tfor i in range(Y.shape[0]):\n",
    "\t\tfor j in range(Y.shape[1]):\n",
    "\t\t\tY[i, j] = (X[i:i+h, j:j+w] * K).sum()\n",
    "\n",
    "\treturn Y\n",
    "\n",
    "X = torch.tensor([[0.0, 1.0, 2.0], [3.0, 4.0, 5.0], [6.0, 7.0, 8.0]])\n",
    "K = torch.tensor([[0.0, 1.0], [2.0, 3.0]])\n",
    "\n",
    "corr2d(X, K)"
   ]
  },
  {
   "cell_type": "markdown",
   "metadata": {},
   "source": [
    "卷积层"
   ]
  },
  {
   "cell_type": "code",
   "execution_count": 2,
   "metadata": {},
   "outputs": [],
   "source": [
    "class Conv2D(nn.Module):\n",
    "\tdef __init__(self, kernel_size):\n",
    "\t\tsuper(Conv2D, self).__init__()\n",
    "\t\tself.weight = nn.Parameter(torch.rand(kernel_size))\n",
    "\t\tself.bias = nn.Parameter(torch.zeros(1))\n",
    "\n",
    "\tdef forward(self, X):\n",
    "\t\t\"\"\"\n",
    "\t\t卷积层前向计算本质上就是互相关运算\n",
    "\t\t\"\"\"\n",
    "\t\treturn corr2d(X, self.weight) + self.bias"
   ]
  },
  {
   "cell_type": "markdown",
   "metadata": {},
   "source": [
    "学习卷积核"
   ]
  },
  {
   "cell_type": "code",
   "execution_count": 8,
   "metadata": {},
   "outputs": [
    {
     "name": "stdout",
     "output_type": "stream",
     "text": [
      "batch 2, loss 10.489\n",
      "batch 4, loss 2.257\n",
      "batch 6, loss 0.582\n",
      "batch 8, loss 0.181\n",
      "batch 10, loss 0.065\n",
      "tensor([[ 1.0097, -0.9601]], grad_fn=<ViewBackward0>)\n"
     ]
    }
   ],
   "source": [
    "X = torch.Tensor(\n",
    "\t[\n",
    "\t\t[1., 1., 0., 0., 0., 0., 1., 1.],\n",
    "\t\t[1., 1., 0., 0., 0., 0., 1., 1.],\n",
    "\t\t[1., 1., 0., 0., 0., 0., 1., 1.],\n",
    "\t\t[1., 1., 0., 0., 0., 0., 1., 1.],\n",
    "\t\t[1., 1., 0., 0., 0., 0., 1., 1.],\n",
    "\t\t[1., 1., 0., 0., 0., 0., 1., 1.]\n",
    "\t]\n",
    ")\n",
    "\n",
    "Y = torch.Tensor(\n",
    "\t[\n",
    "\t\t[0., 1., 0., 0., 0., -1., 0.],\n",
    "\t\t[0., 1., 0., 0., 0., -1., 0.],\n",
    "\t\t[0., 1., 0., 0., 0., -1., 0.],\n",
    "\t\t[0., 1., 0., 0., 0., -1., 0.],\n",
    "\t\t[0., 1., 0., 0., 0., -1., 0.],\n",
    "\t\t[0., 1., 0., 0., 0., -1., 0.]\n",
    "\t]\n",
    ")\n",
    "\n",
    "\n",
    "conv2d = nn.Conv2d(1, 1, kernel_size=(1, 2), bias=False)\n",
    "\n",
    "X = X.reshape((1, 1, 6, 8))\n",
    "Y = Y.reshape((1, 1, 6, 7))\n",
    "lr = 3e-2\n",
    "\n",
    "for i in range(10):\n",
    "\tY_hat = conv2d(X)\n",
    "\tl = (Y_hat - Y) ** 2\n",
    "\tconv2d.zero_grad()\n",
    "\tl.sum().backward()\n",
    "\tconv2d.weight.data -= lr * conv2d.weight.grad\t# type: ignore\n",
    "\tif (i + 1) % 2 == 0:\n",
    "\t\tprint(f'batch {i + 1}, loss {l.sum():.3f}')\n",
    "\n",
    "print(conv2d.weight.reshape((1, 2)))"
   ]
  }
 ],
 "metadata": {
  "kernelspec": {
   "display_name": "LEARN",
   "language": "python",
   "name": "python3"
  },
  "language_info": {
   "codemirror_mode": {
    "name": "ipython",
    "version": 3
   },
   "file_extension": ".py",
   "mimetype": "text/x-python",
   "name": "python",
   "nbconvert_exporter": "python",
   "pygments_lexer": "ipython3",
   "version": "3.8.19"
  }
 },
 "nbformat": 4,
 "nbformat_minor": 2
}
