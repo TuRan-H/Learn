{
 "cells": [
  {
   "cell_type": "markdown",
   "metadata": {},
   "source": [
    "# 动手学深度学习 6.4节: 多输入输出通道 示例代码"
   ]
  },
  {
   "cell_type": "code",
   "execution_count": 1,
   "metadata": {},
   "outputs": [],
   "source": [
    "import torch\n",
    "from torch import nn\n",
    "from d2l import torch as d2l"
   ]
  },
  {
   "cell_type": "markdown",
   "metadata": {
    "vscode": {
     "languageId": "plaintext"
    }
   },
   "source": [
    "多输入通道"
   ]
  },
  {
   "cell_type": "code",
   "execution_count": 5,
   "metadata": {},
   "outputs": [],
   "source": [
    "\n",
    "X = torch.tensor(\n",
    "\t[\n",
    "\t\t[\n",
    "\t\t\t[0.0, 1.0, 2.0],\n",
    "\t\t\t[3.0, 4.0, 5.0],\n",
    "\t\t\t[6.0, 7.0, 8.0]\n",
    "\t\t],\n",
    "\t\t[\n",
    "\t\t\t[1.0, 2.0, 3.0],\n",
    "\t\t\t[4.0, 5.0, 6.0],\n",
    "\t\t\t[7.0, 8.0, 9.0]\n",
    "\t\t]\n",
    "\t]\n",
    ")\n",
    "\n",
    "K = torch.tensor(\n",
    "\t[\n",
    "\t\t[\n",
    "\t\t\t[0.0, 1.0],\n",
    "\t\t\t[2.0, 3.0]\n",
    "\t\t],\n",
    "\t\t[\n",
    "\t\t\t[1.0, 2.0],\n",
    "\t\t\t[3.0, 4.0]\n",
    "\t\t]\n",
    "\t]\n",
    ")"
   ]
  },
  {
   "cell_type": "code",
   "execution_count": 6,
   "metadata": {},
   "outputs": [
    {
     "name": "stdout",
     "output_type": "stream",
     "text": [
      "tensor([[ 56.,  72.],\n",
      "        [104., 120.]])\n"
     ]
    }
   ],
   "source": [
    "def corr2d_multi_in(X, K):\n",
    "\treturn sum(d2l.corr2d(x, k) for (x, k) in zip(X, K))\n",
    "\n",
    "print(corr2d_multi_in(X, K))"
   ]
  },
  {
   "cell_type": "markdown",
   "metadata": {},
   "source": [
    "多输出通道"
   ]
  },
  {
   "cell_type": "code",
   "execution_count": 7,
   "metadata": {},
   "outputs": [],
   "source": [
    "K = torch.stack((K, K + 1, K + 2), 0)"
   ]
  },
  {
   "cell_type": "code",
   "execution_count": 12,
   "metadata": {},
   "outputs": [
    {
     "data": {
      "text/plain": [
       "tensor([[[ 56.,  72.],\n",
       "         [104., 120.]],\n",
       "\n",
       "        [[ 76., 100.],\n",
       "         [148., 172.]],\n",
       "\n",
       "        [[ 96., 128.],\n",
       "         [192., 224.]]])"
      ]
     },
     "execution_count": 12,
     "metadata": {},
     "output_type": "execute_result"
    }
   ],
   "source": [
    "def corr2d_multi_in_out(X, K):\n",
    "\treturn torch.stack([corr2d_multi_in(X, k) for k in K], 0)\t# type: ignore\n",
    "\n",
    "\n",
    "corr2d_multi_in_out(X, K)"
   ]
  },
  {
   "cell_type": "code",
   "execution_count": 11,
   "metadata": {},
   "outputs": [
    {
     "data": {
      "text/plain": [
       "tensor([[[ 56.,  72.],\n",
       "         [104., 120.]],\n",
       "\n",
       "        [[ 76., 100.],\n",
       "         [148., 172.]],\n",
       "\n",
       "        [[ 96., 128.],\n",
       "         [192., 224.]]])"
      ]
     },
     "execution_count": 11,
     "metadata": {},
     "output_type": "execute_result"
    }
   ],
   "source": [
    "def my_corr2d_multi_in_out(X:torch.Tensor, K:torch.Tensor):\n",
    "\t\"\"\"\n",
    "\tK.shape = (输出通道, 输入通道, 高, 宽)\n",
    "\tX.shape = (输入通道, 高, 宽)\n",
    "\t\"\"\"\n",
    "\tY = torch.zeros([K.shape[0], X.shape[1] - K.shape[2] + 1, X.shape[2] - K.shape[3] + 1])\n",
    "\n",
    "\t# temp.shape = (输入通道, 输出通道, 输出高, 输出宽)\n",
    "\ttemp = torch.zeros([K.shape[1], K.shape[0], X.shape[1] - K.shape[2] + 1, X.shape[2] - K.shape[3] + 1])\n",
    "\n",
    "\t# i表示输入通道\n",
    "\tfor i in range(K.shape[1]):\n",
    "\t\t# j表示输出通道\n",
    "\t\tfor j in range(K.shape[0]):\n",
    "\t\t\ttemp[i, j] = d2l.corr2d(X[i], K[j,i,:,:])\n",
    "\t\n",
    "\tY = torch.sum(temp, dim=0)\n",
    "\treturn Y\n",
    "\t\t\n",
    "\t\n",
    "my_corr2d_multi_in_out(X, K)"
   ]
  },
  {
   "cell_type": "markdown",
   "metadata": {},
   "source": [
    "1 X 1 卷积层"
   ]
  },
  {
   "cell_type": "code",
   "execution_count": 36,
   "metadata": {},
   "outputs": [],
   "source": [
    "X = torch.normal(0, 1, (3, 3, 3))\n",
    "K = torch.normal(0, 1, (2, 3, 1, 1))"
   ]
  },
  {
   "cell_type": "code",
   "execution_count": 37,
   "metadata": {},
   "outputs": [],
   "source": [
    "def corr2d_multi_in_out_1x1(X:torch.Tensor, K:torch.Tensor):\n",
    "\tc_i, n_h, n_w = X.shape\n",
    "\tc_o = K.shape[0]\n",
    "\tX = X.reshape([c_i, n_h*n_w])\n",
    "\tK = K.reshape([c_o, c_i])\n",
    "\t# 1*1卷积的本质就是MLP, 这里直接做线性运算\n",
    "\tY = torch.matmul(K, X)\n",
    "\treturn Y"
   ]
  },
  {
   "cell_type": "code",
   "execution_count": 38,
   "metadata": {},
   "outputs": [
    {
     "name": "stdout",
     "output_type": "stream",
     "text": [
      "tensor([[0., 0., 0., 0., 0., 0., 0., 0., 0.],\n",
      "        [0., 0., 0., 0., 0., 0., 0., 0., 0.]])\n"
     ]
    }
   ],
   "source": [
    "Y1 = corr2d_multi_in_out_1x1(X, K)\n",
    "Y2 = corr2d_multi_in_out(X, K)\n",
    "print(Y1 - Y2.reshape(Y1.shape))"
   ]
  }
 ],
 "metadata": {
  "kernelspec": {
   "display_name": "LEARN",
   "language": "python",
   "name": "python3"
  },
  "language_info": {
   "codemirror_mode": {
    "name": "ipython",
    "version": 3
   },
   "file_extension": ".py",
   "mimetype": "text/x-python",
   "name": "python",
   "nbconvert_exporter": "python",
   "pygments_lexer": "ipython3",
   "version": "3.8.19"
  }
 },
 "nbformat": 4,
 "nbformat_minor": 2
}
