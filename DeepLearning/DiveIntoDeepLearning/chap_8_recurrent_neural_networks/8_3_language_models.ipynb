{
 "cells": [
  {
   "cell_type": "markdown",
   "metadata": {},
   "source": [
    "# 8.3 语言模型和数据集"
   ]
  },
  {
   "cell_type": "code",
   "execution_count": 1,
   "metadata": {},
   "outputs": [],
   "source": [
    "import random\n",
    "import torch"
   ]
  },
  {
   "cell_type": "markdown",
   "metadata": {},
   "source": [
    "# 读取长序列数据 -- 随机采样\n",
    "不同batch的对应数据是相互独立的"
   ]
  },
  {
   "cell_type": "code",
   "execution_count": 14,
   "metadata": {},
   "outputs": [],
   "source": [
    "def seq_data_iter_random(corpus: list, batch_size: int, num_steps: int):\n",
    "\t\"\"\"\n",
    "\tArgs:\n",
    "\t\tcorpus (list): 语料集\n",
    "\t\tbatch_size (int): 批量大小\n",
    "\t\tnum_steps (int): 每个样本的大小\n",
    "\t\"\"\"\n",
    "\t# 随机删除前面的数据, 保证每个epoch数据不一样\n",
    "\tcorpus = corpus[random.randint(0, num_steps - 1):]\n",
    "\t# 确定有多少个子序列 (num_subseqs)\n",
    "\tnum_subseqs = (len(corpus) - 1) // num_steps\n",
    "\t# 用来确定每一个样本开始的index\n",
    "\tinitial_indices = list(range(0, num_subseqs * num_steps, num_steps))\n",
    "\trandom.shuffle(initial_indices)\n",
    "\n",
    "\t# 根据position, 返回其在corpus中的数据\n",
    "\tdata = lambda pos: corpus[pos: pos + num_steps]\n",
    "\n",
    "\t# 遍历生成每一个batch\n",
    "\tnum_batches = num_subseqs // batch_size\n",
    "\tfor i in range(0, batch_size + num_batches, batch_size):\n",
    "\t\t# 随机从initial_indices中挑选出一个batch所对应的index\n",
    "\t\tinitial_indices_per_batch = initial_indices[i: i + batch_size]\n",
    "\t\tx = [data(j) for j in initial_indices_per_batch]\n",
    "\t\ty = [data(j + 1) for j in initial_indices_per_batch]\n",
    "\t\tyield torch.tensor(x), torch.tensor(y)"
   ]
  },
  {
   "cell_type": "code",
   "execution_count": 16,
   "metadata": {},
   "outputs": [
    {
     "name": "stdout",
     "output_type": "stream",
     "text": [
      "---batch---\n",
      "X: tensor([[10, 11, 12, 13, 14],\n",
      "        [15, 16, 17, 18, 19]]) \n",
      " Y: tensor([[11, 12, 13, 14, 15],\n",
      "        [16, 17, 18, 19, 20]])\n",
      "---batch---\n",
      "X: tensor([[5, 6, 7, 8, 9],\n",
      "        [0, 1, 2, 3, 4]]) \n",
      " Y: tensor([[ 6,  7,  8,  9, 10],\n",
      "        [ 1,  2,  3,  4,  5]])\n",
      "---batch---\n",
      "X: tensor([[20, 21, 22, 23, 24],\n",
      "        [25, 26, 27, 28, 29]]) \n",
      " Y: tensor([[21, 22, 23, 24, 25],\n",
      "        [26, 27, 28, 29, 30]])\n"
     ]
    }
   ],
   "source": [
    "my_seq = list(range(35))\n",
    "for X, Y in seq_data_iter_random(my_seq, 2, 5):\n",
    "\tprint(\"---batch---\")\n",
    "\tprint(\"X:\", X, '\\n', \"Y:\", Y)"
   ]
  },
  {
   "cell_type": "markdown",
   "metadata": {},
   "source": [
    "# 读取长序列数据 -- 顺序分区\n",
    "不同batch中的对应数据是连着的"
   ]
  },
  {
   "cell_type": "code",
   "execution_count": 17,
   "metadata": {},
   "outputs": [],
   "source": [
    "def seq_data_iter_sequential(corpus: list, batch_size: int, num_steps: int):\n",
    "\t\"\"\"\n",
    "\tArgs:\n",
    "\t\tcorpus (list): 语料集\n",
    "\t\tbatch_size (int): 批量大小\n",
    "\t\tnum_steps (int): 每个样本的大小\n",
    "\t\"\"\"\n",
    "\toffset = random.randint(0, num_steps)\n",
    "\t# 获取token的总数, 并且确保能够被batch_size整除\n",
    "\tnum_tokens = ((len(corpus) - offset - 1) // batch_size) * batch_size\n",
    "\tXs = torch.tensor(corpus[offset: offset + num_tokens])\n",
    "\tYs = torch.tensor(corpus[offset + 1: offset + num_tokens + 1])\n",
    "\t# Xs中第一维是batch_size, 第二维代表 corpus被batch_size切割后能够存于的元素总量\n",
    "\tXs, Ys = Xs.reshape(batch_size, -1), Ys.reshape(batch_size, -1)\n",
    "\t\n",
    "\t# corpus被batch_size切割后能够存于的元素总量 整除 每个样本的大小, 就是一共有多少个batch (num_batches)\n",
    "\tnum_batches = Xs.shape[1] // num_steps\n",
    "\tfor i in range(0, num_steps * num_batches, num_steps):\n",
    "\t\tX = Xs[:, i: i + num_steps]\n",
    "\t\tY = Ys[:, i: i + num_steps]\n",
    "\t\tyield X, Y"
   ]
  },
  {
   "cell_type": "code",
   "execution_count": 18,
   "metadata": {},
   "outputs": [
    {
     "name": "stdout",
     "output_type": "stream",
     "text": [
      "---batch---\n",
      "X: tensor([[ 1,  2,  3,  4,  5],\n",
      "        [17, 18, 19, 20, 21]]) \n",
      " Y: tensor([[ 2,  3,  4,  5,  6],\n",
      "        [18, 19, 20, 21, 22]])\n",
      "---batch---\n",
      "X: tensor([[ 6,  7,  8,  9, 10],\n",
      "        [22, 23, 24, 25, 26]]) \n",
      " Y: tensor([[ 7,  8,  9, 10, 11],\n",
      "        [23, 24, 25, 26, 27]])\n",
      "---batch---\n",
      "X: tensor([[11, 12, 13, 14, 15],\n",
      "        [27, 28, 29, 30, 31]]) \n",
      " Y: tensor([[12, 13, 14, 15, 16],\n",
      "        [28, 29, 30, 31, 32]])\n"
     ]
    }
   ],
   "source": [
    "my_seq = list(range(35))\n",
    "for X, Y in seq_data_iter_sequential(my_seq, 2, 5):\n",
    "\tprint(\"---batch---\")\n",
    "\tprint(\"X:\", X, '\\n', \"Y:\", Y)"
   ]
  }
 ],
 "metadata": {
  "kernelspec": {
   "display_name": "LEARN",
   "language": "python",
   "name": "python3"
  },
  "language_info": {
   "codemirror_mode": {
    "name": "ipython",
    "version": 3
   },
   "file_extension": ".py",
   "mimetype": "text/x-python",
   "name": "python",
   "nbconvert_exporter": "python",
   "pygments_lexer": "ipython3",
   "version": "3.9.19"
  }
 },
 "nbformat": 4,
 "nbformat_minor": 2
}
