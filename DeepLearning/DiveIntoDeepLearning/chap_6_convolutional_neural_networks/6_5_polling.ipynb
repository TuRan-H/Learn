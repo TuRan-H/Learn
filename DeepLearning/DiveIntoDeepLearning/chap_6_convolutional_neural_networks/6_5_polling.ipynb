{
 "cells": [
  {
   "cell_type": "markdown",
   "metadata": {},
   "source": [
    "# 动手学深度学习 6.5节:汇聚层 / 池化层 示例代码"
   ]
  },
  {
   "cell_type": "code",
   "execution_count": 1,
   "metadata": {},
   "outputs": [],
   "source": [
    "import torch\n",
    "from torch import nn\n",
    "from d2l import torch as d2l"
   ]
  },
  {
   "cell_type": "markdown",
   "metadata": {},
   "source": [
    "最大池化层和平均池化层"
   ]
  },
  {
   "cell_type": "code",
   "execution_count": 9,
   "metadata": {},
   "outputs": [],
   "source": [
    "X = torch.tensor([[0, 1, 2], [3, 4, 5], [6, 7, 8]], dtype=torch.float16)"
   ]
  },
  {
   "cell_type": "code",
   "execution_count": 10,
   "metadata": {},
   "outputs": [
    {
     "data": {
      "text/plain": [
       "tensor([[4., 5.],\n",
       "        [7., 8.]])"
      ]
     },
     "execution_count": 10,
     "metadata": {},
     "output_type": "execute_result"
    }
   ],
   "source": [
    "def pool2d(X:torch.Tensor, pool_size:tuple, model=\"max\"):\n",
    "\tp_h, p_w = pool_size\n",
    "\tY = torch.zeros((X.shape[0] - p_h + 1, X.shape[1] - p_w + 1))\n",
    "\tfor i in range(Y.shape[0]):\n",
    "\t\tfor j in range(Y.shape[1]):\n",
    "\t\t\tif model == \"max\":\n",
    "\t\t\t\tY[i, j] = X[i:i+p_h, j:j+p_w].max()\n",
    "\t\t\telif model == \"avg\":\n",
    "\t\t\t\tY[i, j] = X[i:i+p_h, j:j+p_w].mean()\n",
    "\treturn Y\n",
    "\n",
    "pool2d(X, (2, 2), \"max\")"
   ]
  }
 ],
 "metadata": {
  "kernelspec": {
   "display_name": "LEARN",
   "language": "python",
   "name": "python3"
  },
  "language_info": {
   "codemirror_mode": {
    "name": "ipython",
    "version": 3
   },
   "file_extension": ".py",
   "mimetype": "text/x-python",
   "name": "python",
   "nbconvert_exporter": "python",
   "pygments_lexer": "ipython3",
   "version": "3.8.19"
  }
 },
 "nbformat": 4,
 "nbformat_minor": 2
}
