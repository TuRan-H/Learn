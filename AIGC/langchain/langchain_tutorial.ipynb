{
 "cells": [
  {
   "cell_type": "markdown",
   "id": "c1c5fb22",
   "metadata": {},
   "source": [
    "# 构建一个简单的Agent"
   ]
  },
  {
   "cell_type": "code",
   "execution_count": null,
   "id": "28c96f64",
   "metadata": {},
   "outputs": [
    {
     "name": "stderr",
     "output_type": "stream",
     "text": [
      "/tmp/ipykernel_5956/136066960.py:14: LangChainDeprecationWarning: LangChain agents will continue to be supported, but it is recommended for new use cases to be built with LangGraph. LangGraph offers a more flexible and full-featured framework for building agents, including support for tool-calling, persistence of state, and human-in-the-loop workflows. For details, refer to the `LangGraph documentation <https://langchain-ai.github.io/langgraph/>`_ as well as guides for `Migrating from AgentExecutor <https://python.langchain.com/docs/how_to/migrate_agent/>`_ and LangGraph's `Pre-built ReAct agent <https://langchain-ai.github.io/langgraph/how-tos/create-react-agent/>`_.\n",
      "  agent = initialize_agent(tools=tools, llm=llm, agent=AgentType.ZERO_SHOT_REACT_DESCRIPTION, verbose=True)\n"
     ]
    },
    {
     "name": "stdout",
     "output_type": "stream",
     "text": [
      "\n",
      "\n",
      "\u001b[1m> Entering new AgentExecutor chain...\u001b[0m\n",
      "\u001b[32;1m\u001b[1;3mI need to determine today's date first and then find out the significant historical events that occurred on this date.\n",
      "Action: Search\n",
      "Action Input: What's the date today?\u001b[0m\n",
      "Observation: \u001b[36;1m\u001b[1;3mWednesday, June 18, 2025\u001b[0m\n",
      "Thought:\u001b[32;1m\u001b[1;3mNow that I know today's date, I should search for significant historical events that happened on June 18.\n",
      "Action: Search\n",
      "Action Input: Significant historical events on June 18\u001b[0m\n",
      "Observation: \u001b[36;1m\u001b[1;3m['Historical Events on June 18 · Emperor Frederick Barbarossa · Truce of Nice · Crown of Ireland Act · Battle of Dungeness · Philadelphia Founded · Battle of Waterloo.', 'On this day US President James Madison signed a declaration of war against Great Britain, initiating the War of 1812.', \"1633 – Charles I is crowned King of Scots at St Giles' Cathedral, Edinburgh. · 1684 – The charter of the Massachusetts Bay Colony is revoked via a scire facias ...\", 'British abandon Philadelphia · President John Adams oversees passage of first of Alien and Sedition Acts · Napoleon defeated at Waterloo · Indian Reorganization ...', '1979 Leonid Brezhnev and Jimmy Carter sign SALT II · 1972 118 die in the Staines Air Disaster · 1948 The LP record is introduced · 1940 A speech by Charles de ...', 'June 18 Events In History: EVENTS 1928 – Amelia Earhart is the first woman to fly in an airplane across the Atlantic Ocean.', 'Major Events · 618 Coronation of the Chinese governor Li Yuan as Emperor Gaozu of Tang, the new Emperor of China, initiating three centuries of Tang Dynasty rule ...', 'At the Battle of Waterloo, Napoleon Bonaparte is defeated by an international army under the Duke of Wellington. 1812.', \"Boris Yeltsin, president of Russia, arrives in U.S. · Mud storm in Antofagasta Chile, kills 80 · San Francisco Giant pitcher Dave Dravecky's cancerous left arm ...\", 'In 1979, the SALT II Treaty is signed · In 1972, 118 die in the Staines Air Disaster · In 1815, Napoleon is defeated in the Battle of Waterloo.']\u001b[0m\n",
      "Thought:\u001b[32;1m\u001b[1;3mI now know the date and the significant historical events that happened on this date.\n",
      "Final Answer: Today's date is Wednesday, June 18, 2025. Some great events that have taken place on June 18 in history are:\n",
      "\n",
      "1. Emperor Frederick Barbarossa related events.\n",
      "2. Truce of Nice.\n",
      "3. Crown of Ireland Act.\n",
      "4. Battle of Dungeness.\n",
      "5. Philadelphia Founded.\n",
      "6. Battle of Waterloo, where Napoleon was defeated by an international army under the Duke of Wellington in 1815.\n",
      "7. US President James Madison signed a declaration of war against Great Britain, initiating the War of 1812.\n",
      "8. Charles I was crowned King of Scots at St Giles' Cathedral, Edinburgh in 1633.\n",
      "9. Amelia Earhart became the first woman to fly in an airplane across the Atlantic Ocean in 1928.\n",
      "10. Boris Yeltsin, president of Russia, arrived in the U.S. in 1991.\u001b[0m\n",
      "\n",
      "\u001b[1m> Finished chain.\u001b[0m\n"
     ]
    },
    {
     "data": {
      "text/plain": [
       "{'input': \"What's the date today? What great events have taken place today in history?\",\n",
       " 'output': \"Today's date is Wednesday, June 18, 2025. Some great events that have taken place on June 18 in history are:\\n\\n1. Emperor Frederick Barbarossa related events.\\n2. Truce of Nice.\\n3. Crown of Ireland Act.\\n4. Battle of Dungeness.\\n5. Philadelphia Founded.\\n6. Battle of Waterloo, where Napoleon was defeated by an international army under the Duke of Wellington in 1815.\\n7. US President James Madison signed a declaration of war against Great Britain, initiating the War of 1812.\\n8. Charles I was crowned King of Scots at St Giles' Cathedral, Edinburgh in 1633.\\n9. Amelia Earhart became the first woman to fly in an airplane across the Atlantic Ocean in 1928.\\n10. Boris Yeltsin, president of Russia, arrived in the U.S. in 1991.\"}"
      ]
     },
     "execution_count": 10,
     "metadata": {},
     "output_type": "execute_result"
    }
   ],
   "source": [
    "import os\n",
    "from langchain_community.llms.tongyi import Tongyi\n",
    "from langchain.agents import load_tools, initialize_agent\n",
    "from langchain.agents.agent_types import AgentType\n",
    "\n",
    "# 加载llm\n",
    "llm = Tongyi(model=\"qwen-plus\", dashscope_api_key=os.getenv(\"DASHSCOPE_API_KEY\")) # type: ignore\n",
    "\n",
    "# 加载工具\n",
    "# serpapi是google开发的一个基于google search的api\n",
    "tools = load_tools([\"serpapi\"])\n",
    "\n",
    "# 初始化agent\n",
    "agent = initialize_agent(tools=tools, llm=llm, agent=AgentType.ZERO_SHOT_REACT_DESCRIPTION, verbose=True)\n",
    "\n",
    "# 调用agent\n",
    "# verbose参数的主要作用是: 是否打开详细的日志输出\n",
    "agent.invoke(\"What's the date today? What great events have taken place today in history?\")"
   ]
  },
  {
   "cell_type": "markdown",
   "id": "44f95ff7",
   "metadata": {},
   "source": [
    "# 文本总结"
   ]
  },
  {
   "cell_type": "code",
   "execution_count": 2,
   "id": "8d95e442",
   "metadata": {},
   "outputs": [],
   "source": [
    "from langchain.document_loaders import UnstructuredFileLoader\n",
    "from langchain.chains.summarize import load_summarize_chain\n",
    "from langchain.text_splitter import RecursiveCharacterTextSplitter\n",
    "from langchain_community.llms.tongyi import Tongyi"
   ]
  },
  {
   "cell_type": "code",
   "execution_count": null,
   "id": "a79e2670",
   "metadata": {},
   "outputs": [
    {
     "name": "stdout",
     "output_type": "stream",
     "text": [
      "\n",
      "\n",
      "\u001b[1m> Entering new RefineDocumentsChain chain...\u001b[0m\n",
      "\n",
      "\n",
      "\u001b[1m> Entering new LLMChain chain...\u001b[0m\n",
      "Prompt after formatting:\n",
      "\u001b[32;1m\u001b[1;3mWrite a concise summary of the following:\n",
      "\n",
      "\n",
      "\"第一章 陨落的天才\n",
      "\n",
      "“斗之力，三段”\n",
      "\n",
      "望着测验魔石碑上面闪亮得甚至有些刺眼的五个大字，少年面无表情，唇角有着一抹自嘲，紧握的手掌，因为大力，而导致略微尖锐的指甲深深的刺进了掌心之中，带来一阵阵钻心的疼痛\n",
      "\n",
      "“萧炎，斗之力，三段级别：低级”测验魔石碑之旁，一位中年男子，看了一眼碑上所显示出来的信息，语气漠然的将之公布了出来\n",
      "\n",
      "中年男子话刚刚脱口，便是不出意外的在人头汹涌的广场上带起了一阵嘲讽的骚动武动乾坤。\n",
      "\n",
      "“三段嘿嘿，果然不出我所料，这个“天才”这一年又是在原地踏步”\n",
      "\n",
      "“哎，这废物真是把家族的脸都给丢光了。”\n",
      "\n",
      "“要不是族长是他的父亲，这种废物，早就被驱赶出家族，任其自生自灭了，哪还有机会待在家族中白吃白喝。”\n",
      "\n",
      "“唉，昔年那名闻乌坦城的天才少年，如今怎么落魄成这般模样了啊”\n",
      "\n",
      "“谁知道呢，或许做了什么亏心事，惹得神灵降怒了吧”\n",
      "\n",
      "周围传来的不屑嘲笑以及惋惜轻叹，落在那如木桩待在原地的少年耳中，恍如一根根利刺狠狠的扎在心脏一般，让得少年呼吸微微急促武动乾坤。\"\n",
      "\n",
      "\n",
      "CONCISE SUMMARY:\u001b[0m\n",
      "\n",
      "\u001b[1m> Finished chain.\u001b[0m\n",
      "\n",
      "\n",
      "\u001b[1m> Entering new LLMChain chain...\u001b[0m\n",
      "Prompt after formatting:\n",
      "\u001b[32;1m\u001b[1;3mYour job is to produce a final summary.\n",
      "We have provided an existing summary up to a certain point: A once-renowned prodigy, Xiao Yan, faces public humiliation during a strength evaluation. The testing stone reveals his power level as a lowly \"three-stage,\" prompting ridicule and disdain from onlookers who question his status as a former天才 (genius). Despite his father being the clan leader, Xiao Yan is mocked as a failure, with many speculating that divine punishment has caused his decline. Overcome with pain and self-reproach, Xiao Yan stands silently, bearing the weight of others' scorn and his own struggles.\n",
      "We have the opportunity to refine the existing summary (only if needed) with some more context below.\n",
      "------------\n",
      "少年缓缓抬起头来，露出一张有些清秀的稚嫩脸庞，漆黑的眸子木然的在周围那些嘲讽的同龄人身上扫过，少年嘴角的自嘲，似乎变得更加苦涩了武动乾坤。\n",
      "\n",
      "“这些人，都如此刻薄势力吗或许是因为三年前他们曾经在自己面前露出过最谦卑的笑容，所以，如今想要讨还回去吧”苦涩的一笑，萧炎落寞的转身，安静的回到了队伍的最后一排，孤单的身影，与周围的世界，有些格格不入武动乾坤。\n",
      "\n",
      "“下一个，萧媚”\n",
      "\n",
      "听着测验人的喊声，一名少女快速的人群中跑出，少女刚刚出场，附近的议论声便是小了许多，一双双略微火热的目光，牢牢的锁定着少女的脸颊\n",
      "\n",
      "少女年龄不过十四左右，虽然并算不上绝色，不过那张稚气未脱的小脸，却是蕴含着淡淡的妩媚，清纯与妩媚，矛盾的集合，让得她成功的成为了全场瞩目的焦点\n",
      "\n",
      "少女快步上前，小手轻车熟路的触摸着漆黑的魔石碑，然后缓缓闭上眼睛\n",
      "\n",
      "在少女闭眼片刻之后，漆黑的魔石碑之上再次亮起了光芒\n",
      "\n",
      "“斗之气：七段”\n",
      "\n",
      "“萧媚，斗之气：七段级别:高级”\n",
      "\n",
      "“耶”听着测验员所喊出的成绩，少女脸颊扬起了得意的笑容\n",
      "\n",
      "“啧啧，七段斗之气，真了不起，按这进度，恐怕顶多只需要三年时间，她就能称为一名真正的斗者了吧”\n",
      "------------\n",
      "Given the new context, refine the original summary.\n",
      "If the context isn't useful, return the original summary.\u001b[0m\n",
      "\n",
      "\u001b[1m> Finished chain.\u001b[0m\n",
      "\n",
      "\u001b[1m> Finished chain.\u001b[0m\n"
     ]
    }
   ],
   "source": [
    "# 加载非结构化文本加载器, 并将文本加载入内存\n",
    "loader = UnstructuredFileLoader(\"./data/斗破苍穹.txt\")\n",
    "documents = loader.load()\n",
    "\n",
    "# 对文本进行chunks分割\n",
    "text_splitter = RecursiveCharacterTextSplitter(chunk_size=500, chunk_overlap=0)\n",
    "split_documents = text_splitter.split_documents(documents)\n",
    "\n",
    "# 创建语言模型实例\n",
    "llm = Tongyi(model=\"qwen-plus\", dashscope_api_key=os.getenv(\"DASHSCOPE_API_KEY\"))  # type: ignore\n",
    "\n",
    "chain = load_summarize_chain(llm=llm, chain_type=\"refine\", verbose=True)\n",
    "result = chain.invoke(split_documents[:2])"
   ]
  },
  {
   "cell_type": "code",
   "execution_count": 24,
   "id": "1fc15e95",
   "metadata": {},
   "outputs": [
    {
     "name": "stdout",
     "output_type": "stream",
     "text": [
      "['input_documents', 'output_text']\n",
      "A once-renowned prodigy, Xiao Yan, faces public humiliation during a strength evaluation when the testing stone reveals his power level as a lowly \"three-stage,\" leading to ridicule and disdain from onlookers who question his status as a former天才 (genius). Despite his father being the clan leader, Xiao Yan is mocked as a failure, with many speculating that divine punishment has caused his decline. Overcome with pain and self-reproach, Xiao Yan silently bears the weight of others' scorn and his own struggles. In contrast, another participant, Xiao Mei, showcases her abilities by achieving a \"seven-stage\" ranking, earning praise and admiration, which further highlights Xiao Yan's fall from grace and isolates him from those around him.\n",
      "**************************************************\n",
      "[Document(metadata={'source': './data/斗破苍穹.txt'}, page_content='第一章 陨落的天才\\n\\n“斗之力，三段”\\n\\n望着测验魔石碑上面闪亮得甚至有些刺眼的五个大字，少年面无表情，唇角有着一抹自嘲，紧握的手掌，因为大力，而导致略微尖锐的指甲深深的刺进了掌心之中，带来一阵阵钻心的疼痛\\n\\n“萧炎，斗之力，三段级别：低级”测验魔石碑之旁，一位中年男子，看了一眼碑上所显示出来的信息，语气漠然的将之公布了出来\\n\\n中年男子话刚刚脱口，便是不出意外的在人头汹涌的广场上带起了一阵嘲讽的骚动武动乾坤。\\n\\n“三段嘿嘿，果然不出我所料，这个“天才”这一年又是在原地踏步”\\n\\n“哎，这废物真是把家族的脸都给丢光了。”\\n\\n“要不是族长是他的父亲，这种废物，早就被驱赶出家族，任其自生自灭了，哪还有机会待在家族中白吃白喝。”\\n\\n“唉，昔年那名闻乌坦城的天才少年，如今怎么落魄成这般模样了啊”\\n\\n“谁知道呢，或许做了什么亏心事，惹得神灵降怒了吧”\\n\\n周围传来的不屑嘲笑以及惋惜轻叹，落在那如木桩待在原地的少年耳中，恍如一根根利刺狠狠的扎在心脏一般，让得少年呼吸微微急促武动乾坤。'), Document(metadata={'source': './data/斗破苍穹.txt'}, page_content='少年缓缓抬起头来，露出一张有些清秀的稚嫩脸庞，漆黑的眸子木然的在周围那些嘲讽的同龄人身上扫过，少年嘴角的自嘲，似乎变得更加苦涩了武动乾坤。\\n\\n“这些人，都如此刻薄势力吗或许是因为三年前他们曾经在自己面前露出过最谦卑的笑容，所以，如今想要讨还回去吧”苦涩的一笑，萧炎落寞的转身，安静的回到了队伍的最后一排，孤单的身影，与周围的世界，有些格格不入武动乾坤。\\n\\n“下一个，萧媚”\\n\\n听着测验人的喊声，一名少女快速的人群中跑出，少女刚刚出场，附近的议论声便是小了许多，一双双略微火热的目光，牢牢的锁定着少女的脸颊\\n\\n少女年龄不过十四左右，虽然并算不上绝色，不过那张稚气未脱的小脸，却是蕴含着淡淡的妩媚，清纯与妩媚，矛盾的集合，让得她成功的成为了全场瞩目的焦点\\n\\n少女快步上前，小手轻车熟路的触摸着漆黑的魔石碑，然后缓缓闭上眼睛\\n\\n在少女闭眼片刻之后，漆黑的魔石碑之上再次亮起了光芒\\n\\n“斗之气：七段”\\n\\n“萧媚，斗之气：七段级别:高级”\\n\\n“耶”听着测验员所喊出的成绩，少女脸颊扬起了得意的笑容\\n\\n“啧啧，七段斗之气，真了不起，按这进度，恐怕顶多只需要三年时间，她就能称为一名真正的斗者了吧”')]\n"
     ]
    }
   ],
   "source": [
    "print(list(result.keys()))\n",
    "\n",
    "print(result['output_text'])\n",
    "print(\"**************************************************\")\n",
    "print(result['input_documents'])\n"
   ]
  },
  {
   "cell_type": "markdown",
   "id": "c636fa9b",
   "metadata": {},
   "source": [
    "# 使用langchain构建一个初级的RAG系统"
   ]
  },
  {
   "cell_type": "code",
   "execution_count": 26,
   "id": "b1b031f1",
   "metadata": {},
   "outputs": [],
   "source": [
    "from langchain.vectorstores.chroma import Chroma\n",
    "from langchain.text_splitter import RecursiveCharacterTextSplitter\n",
    "from langchain_community.llms.tongyi import Tongyi\n",
    "from langchain_community.embeddings.dashscope import DashScopeEmbeddings\n",
    "from langchain.document_loaders import UnstructuredFileLoader\n",
    "from langchain.chains.retrieval_qa.base import RetrievalQA\n",
    "\n",
    "loader = UnstructuredFileLoader(file_path=\"./data/斗破苍穹.txt\")\n",
    "documents = loader.load()\n",
    "text_splitter = RecursiveCharacterTextSplitter(chunk_size=1000, chunk_overlap=50)\n",
    "split_docs = text_splitter.split_documents(documents=documents)\n",
    "\n",
    "llm = Tongyi(model=\"qwen-plus\")\n",
    "embedding_func = DashScopeEmbeddings(model=\"text-embedding-v1\")\n",
    "# from_documents函数会调用embedding_fuc的 `embed_documents` 函数, 返回一个Chroma对象 `doc_search`\n",
    "# doc_search可以使用一个方法 `as_retriever` 来返回一个 `VectorStoreRetriever` 类型\n",
    "doc_search = Chroma.from_documents(split_docs, embedding=embedding_func)\n",
    "\n",
    "qa = RetrievalQA.from_chain_type(llm=llm, chain_type=\"stuff\", retriever=doc_search.as_retriever(), return_source_documents=True)\n",
    "result = qa({\"query\": \"这篇文章主要说的什么内容\"} )"
   ]
  },
  {
   "cell_type": "code",
   "execution_count": 27,
   "id": "28f83d82",
   "metadata": {},
   "outputs": [
    {
     "name": "stdout",
     "output_type": "stream",
     "text": [
      "这篇文章主要描述了一个曾经被认为是天才的少年萧炎，在斗气修炼上的陨落以及他所面临的嘲讽和困境。在一次测验中，他的实力被测定为“斗之力，三段”，这是一个非常低的级别，与他过去的辉煌形成了鲜明对比。文章还提到了他的家族成员萧媚的出色表现，她达到了“斗之气：七段”，进一步衬托出萧炎的失落。此外，文中还提及萧炎为了获取药材和魔核而花费大量金币，体现了在斗气大陆金钱的重要性。\n"
     ]
    }
   ],
   "source": [
    "print(result['result'])"
   ]
  },
  {
   "cell_type": "markdown",
   "id": "10f7e587",
   "metadata": {},
   "source": [
    "# 执行多个chain"
   ]
  },
  {
   "cell_type": "code",
   "execution_count": 29,
   "id": "660ef22a",
   "metadata": {},
   "outputs": [],
   "source": [
    "from langchain_community.llms.tongyi import Tongyi\n",
    "from langchain_core.runnables import RunnableSequence, RunnableConfig\n",
    "from langchain.chains.sequential import SimpleSequentialChain\n",
    "from langchain.prompts import PromptTemplate\n"
   ]
  },
  {
   "cell_type": "markdown",
   "id": "e19c4f5a",
   "metadata": {},
   "source": [
    "创建 `location chian`"
   ]
  },
  {
   "cell_type": "code",
   "execution_count": 30,
   "id": "05fce4e5",
   "metadata": {},
   "outputs": [
    {
     "name": "stdout",
     "output_type": "stream",
     "text": [
      "A classic dish from Beijing is **Peking Duck (北京烤鸭 - Běijīng Kǎoyā)**. This world-renowned dish features crispy-skinned, tender duck roasted to perfection and served with thin pancakes, hoisin sauce, and scallions. It's a quintessential Beijing culinary experience that has been enjoyed for centuries! Another honorable mention is **Beijing Hot Pot (老北京火锅 - Lǎo Běijīng Huǒguō)**, which offers a flavorful and communal dining experience.\n"
     ]
    }
   ],
   "source": [
    "# location 链\n",
    "llm = Tongyi(model=\"qwen-plus\")\n",
    "template = \"\"\"Your job is to come up with a classic dish from the area that the users suggests.\n",
    "% USER LOCATION\n",
    "{user_location}\n",
    "\n",
    "YOUR RESPONSE:\n",
    "\"\"\"\n",
    "prompt_template_location = PromptTemplate(input_variables=[\"user_location\"], template=template)\n",
    "# location_chain = LLMChain(llm=llm, prompt=prompt_template)\n",
    "location_chain = prompt_template_location | llm\n",
    "\n",
    "location_result = location_chain.invoke(input={\"user_location\": \"BeiJing\"})\n",
    "print(location_result)"
   ]
  },
  {
   "cell_type": "markdown",
   "id": "a3705a77",
   "metadata": {},
   "source": [
    "创建 `meal chain`"
   ]
  },
  {
   "cell_type": "code",
   "execution_count": 31,
   "id": "2d92c00e",
   "metadata": {},
   "outputs": [
    {
     "name": "stdout",
     "output_type": "stream",
     "text": [
      "**Simple Lemon Water Recipe:**\n",
      "\n",
      "1. Slice 1 fresh lemon into thin pieces.\n",
      "2. Add 2-3 slices to a glass of cold or warm water.\n",
      "3. Squeeze some lemon juice into the water for extra flavor.\n",
      "4. Stir well and enjoy! You can add honey or mint for a twist.\n"
     ]
    }
   ],
   "source": [
    "# meal 链\n",
    "template = \"\"\"Given a meal, give a short and simple recipe on how to make that dish at home.\n",
    "% MEAL\n",
    "{user_meal}\n",
    "\n",
    "YOUR RESPONSE:\n",
    "\"\"\"\n",
    "\n",
    "prompt_template = PromptTemplate(input_variables=[\"user_meal\"], template=template)\n",
    "# meal_chain = LLMChain(llm=llm, prompt=prompt_template)\n",
    "meal_chain = RunnableSequence(first=prompt_template, last=llm)\n",
    "meal_result = meal_chain.invoke(input={\"user_meal\": \"lemon water\"})\n",
    "print(meal_result)"
   ]
  },
  {
   "cell_type": "code",
   "execution_count": null,
   "id": "b7425e85",
   "metadata": {},
   "outputs": [
    {
     "name": "stdout",
     "output_type": "stream",
     "text": [
      "### Recipe for **Hongshao Tu Dou (Red-Braised Tofu with Potatoes)**\n",
      "\n",
      "#### Ingredients:\n",
      "- 200g firm tofu, cut into cubes\n",
      "- 2 medium potatoes, peeled and cubed\n",
      "- 2 tablespoons soy sauce\n",
      "- 1 tablespoon Shaoxing wine (or rice wine)\n",
      "- 1 teaspoon sugar\n",
      "- 2 cloves garlic, minced\n",
      "- 1 small piece of ginger, minced\n",
      "- 1 star anise\n",
      "- 1 dried red chili (optional)\n",
      "- 2 green onions, chopped\n",
      "- 2 cups water or vegetable broth\n",
      "- 1 tablespoon vegetable oil\n",
      "- Salt to taste\n",
      "\n",
      "#### Instructions:\n",
      "1. **Prepare the ingredients**: Cut tofu and potatoes into bite-sized cubes. Set aside.\n",
      "   \n",
      "2. **Blanch tofu**: Bring a pot of water to a boil. Add the tofu cubes and blanch for 2 minutes. Remove and set aside.\n",
      "\n",
      "3. **Cook potatoes**: Heat 1 tablespoon of vegetable oil in a pan over medium heat. Add the cubed potatoes and cook until they are slightly golden. Remove and set aside.\n",
      "\n",
      "4. **Make the sauce**: In the same pan, add minced garlic and ginger. Sauté for 30 seconds until fragrant. Add soy sauce, Shaoxing wine, sugar, star anise, and dried red chili. Stir well.\n",
      "\n",
      "5. **Braise**: Add the blanched tofu and cooked potatoes to the pan. Pour in 2 cups of water or broth. Bring to a boil, then reduce the heat to low. Cover and simmer for 15-20 minutes, stirring occasionally.\n",
      "\n",
      "6. **Season and finish**: Taste and adjust seasoning with salt if needed. Garnish with chopped green onions.\n",
      "\n",
      "7. **Serve**: Serve hot as a main dish or side with steamed rice.\n",
      "\n",
      "Enjoy your homemade **Hongshao Tu Dou**!\n"
     ]
    }
   ],
   "source": [
    "overall_chain = location_chain | meal_chain\n",
    "overall_result = overall_chain.invoke(input={\"user_location\": \"AnHui\"})\n",
    "print(overall_result)"
   ]
  },
  {
   "cell_type": "markdown",
   "id": "e1efc4ab",
   "metadata": {},
   "source": [
    "# 使用LangChain生成结构化输出"
   ]
  },
  {
   "cell_type": "code",
   "execution_count": 34,
   "id": "6da78537",
   "metadata": {},
   "outputs": [
    {
     "name": "stdout",
     "output_type": "stream",
     "text": [
      "{'bad_string': 'welcom to califonya!', 'good_string': 'Welcome to California!'}\n"
     ]
    }
   ],
   "source": [
    "from langchain.output_parsers import StructuredOutputParser, ResponseSchema\n",
    "from langchain.prompts import PromptTemplate\n",
    "from langchain_community.llms.tongyi import Tongyi\n",
    "\n",
    "llm = Tongyi(model=\"qwen-plus\")\n",
    "\n",
    "# 告诉他我们生成的内容需要哪些字段，每个字段类型式啥\n",
    "response_schemas = [\n",
    "    ResponseSchema(name=\"bad_string\", description=\"This a poorly formatted user input string\"),\n",
    "    ResponseSchema(name=\"good_string\", description=\"This is your response, a reformatted response\"),\n",
    "]\n",
    "\n",
    "# 初始化解析器\n",
    "output_parser = StructuredOutputParser.from_response_schemas(response_schemas)\n",
    "\n",
    "# 生成的格式提示符\n",
    "format_instructions = output_parser.get_format_instructions()\n",
    "\n",
    "template = \"\"\"\n",
    "You will be given a poorly formatted string from a user.\n",
    "Reformat it and make sure all the words are spelled correctly\n",
    "\n",
    "{format_instructions}\n",
    "\n",
    "% USER INPUT:\n",
    "{user_input}\n",
    "\n",
    "YOUR RESPONSE:\n",
    "\"\"\"\n",
    "\n",
    "# 创建prompt模版\n",
    "prompt = PromptTemplate(\n",
    "    input_variables=[\"user_input\"],\n",
    "    partial_variables={\"format_instructions\": format_instructions},\n",
    "    template=template,\n",
    ")\n",
    "\n",
    "# 对prompt模版进行格式化\n",
    "promptValue = prompt.format(user_input=\"welcom to califonya!\")\n",
    "\n",
    "llm_output = llm(promptValue)\n",
    "\n",
    "# 使用解析器进行解析生成的内容\n",
    "parse_result = output_parser.parse(llm_output)\n",
    "print(parse_result)"
   ]
  }
 ],
 "metadata": {
  "kernelspec": {
   "display_name": "base",
   "language": "python",
   "name": "python3"
  },
  "language_info": {
   "codemirror_mode": {
    "name": "ipython",
    "version": 3
   },
   "file_extension": ".py",
   "mimetype": "text/x-python",
   "name": "python",
   "nbconvert_exporter": "python",
   "pygments_lexer": "ipython3",
   "version": "3.12.7"
  }
 },
 "nbformat": 4,
 "nbformat_minor": 5
}
